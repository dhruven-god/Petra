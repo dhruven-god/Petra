{
 "cells": [
  {
   "cell_type": "code",
   "execution_count": 1,
   "metadata": {},
   "outputs": [],
   "source": [
    "import pandas as pd\n",
    "import numpy as np\n",
    "final_df = pd.read_csv(\"movies.csv\")\n",
    "df_meta = pd.read_csv(\"test_movies.csv\")\n",
    "# final_df.sort_values(\"vote_average\",inplace=True,ascending=False)\n",
    "# vector = cv.fit_transform(final_df['genres']).toarray()"
   ]
  },
  {
   "cell_type": "code",
   "execution_count": 2,
   "metadata": {},
   "outputs": [
    {
     "data": {
      "text/html": [
       "<div>\n",
       "<style scoped>\n",
       "    .dataframe tbody tr th:only-of-type {\n",
       "        vertical-align: middle;\n",
       "    }\n",
       "\n",
       "    .dataframe tbody tr th {\n",
       "        vertical-align: top;\n",
       "    }\n",
       "\n",
       "    .dataframe thead th {\n",
       "        text-align: right;\n",
       "    }\n",
       "</style>\n",
       "<table border=\"1\" class=\"dataframe\">\n",
       "  <thead>\n",
       "    <tr style=\"text-align: right;\">\n",
       "      <th></th>\n",
       "      <th>title</th>\n",
       "      <th>summary</th>\n",
       "    </tr>\n",
       "  </thead>\n",
       "  <tbody>\n",
       "    <tr>\n",
       "      <th>0</th>\n",
       "      <td>goldeneye</td>\n",
       "      <td>James Bond must unmask the mysterious head of ...</td>\n",
       "    </tr>\n",
       "    <tr>\n",
       "      <th>1</th>\n",
       "      <td>friday</td>\n",
       "      <td>Craig and Smokey are two guys in Los Angeles h...</td>\n",
       "    </tr>\n",
       "    <tr>\n",
       "      <th>2</th>\n",
       "      <td>from dusk till dawn</td>\n",
       "      <td>Seth Gecko and his younger brother Richard are...</td>\n",
       "    </tr>\n",
       "    <tr>\n",
       "      <th>3</th>\n",
       "      <td>blue in the face</td>\n",
       "      <td>Auggie runs a small tobacco shop in Brooklyn, ...</td>\n",
       "    </tr>\n",
       "    <tr>\n",
       "      <th>4</th>\n",
       "      <td>mighty morphin power rangers: the movie</td>\n",
       "      <td>Power up with six incredible teens who out-man...</td>\n",
       "    </tr>\n",
       "    <tr>\n",
       "      <th>...</th>\n",
       "      <td>...</td>\n",
       "      <td>...</td>\n",
       "    </tr>\n",
       "    <tr>\n",
       "      <th>688</th>\n",
       "      <td>war for the planet of the apes</td>\n",
       "      <td>Caesar and his apes are forced into a deadly c...</td>\n",
       "    </tr>\n",
       "    <tr>\n",
       "      <th>689</th>\n",
       "      <td>goon: last of the enforcers</td>\n",
       "      <td>During a pro lockout, Doug \"The Thug\" Glatt is...</td>\n",
       "    </tr>\n",
       "    <tr>\n",
       "      <th>690</th>\n",
       "      <td>pokémon: spell of the unknown</td>\n",
       "      <td>When Molly Hale's sadness of her father's disa...</td>\n",
       "    </tr>\n",
       "    <tr>\n",
       "      <th>691</th>\n",
       "      <td>transformers: the last knight</td>\n",
       "      <td>Autobots and Decepticons are at war, with huma...</td>\n",
       "    </tr>\n",
       "    <tr>\n",
       "      <th>692</th>\n",
       "      <td>bon cop bad cop 2</td>\n",
       "      <td>Ward and Bouchard must face an important car t...</td>\n",
       "    </tr>\n",
       "  </tbody>\n",
       "</table>\n",
       "<p>693 rows × 2 columns</p>\n",
       "</div>"
      ],
      "text/plain": [
       "                                       title  \\\n",
       "0                                  goldeneye   \n",
       "1                                     friday   \n",
       "2                        from dusk till dawn   \n",
       "3                           blue in the face   \n",
       "4    mighty morphin power rangers: the movie   \n",
       "..                                       ...   \n",
       "688           war for the planet of the apes   \n",
       "689              goon: last of the enforcers   \n",
       "690            pokémon: spell of the unknown   \n",
       "691            transformers: the last knight   \n",
       "692                        bon cop bad cop 2   \n",
       "\n",
       "                                               summary  \n",
       "0    James Bond must unmask the mysterious head of ...  \n",
       "1    Craig and Smokey are two guys in Los Angeles h...  \n",
       "2    Seth Gecko and his younger brother Richard are...  \n",
       "3    Auggie runs a small tobacco shop in Brooklyn, ...  \n",
       "4    Power up with six incredible teens who out-man...  \n",
       "..                                                 ...  \n",
       "688  Caesar and his apes are forced into a deadly c...  \n",
       "689  During a pro lockout, Doug \"The Thug\" Glatt is...  \n",
       "690  When Molly Hale's sadness of her father's disa...  \n",
       "691  Autobots and Decepticons are at war, with huma...  \n",
       "692  Ward and Bouchard must face an important car t...  \n",
       "\n",
       "[693 rows x 2 columns]"
      ]
     },
     "execution_count": 2,
     "metadata": {},
     "output_type": "execute_result"
    }
   ],
   "source": [
    "final_df = final_df[[\"title\",\"summary\"]]   # Grabbing only required columns\n",
    "\n",
    "final_df"
   ]
  },
  {
   "cell_type": "code",
   "execution_count": 3,
   "metadata": {},
   "outputs": [],
   "source": [
    "from sklearn.feature_extraction.text import CountVectorizer\n",
    "cv = CountVectorizer(max_features=10000,stop_words='english')"
   ]
  },
  {
   "cell_type": "code",
   "execution_count": 4,
   "metadata": {},
   "outputs": [
    {
     "data": {
      "text/html": [
       "<div>\n",
       "<style scoped>\n",
       "    .dataframe tbody tr th:only-of-type {\n",
       "        vertical-align: middle;\n",
       "    }\n",
       "\n",
       "    .dataframe tbody tr th {\n",
       "        vertical-align: top;\n",
       "    }\n",
       "\n",
       "    .dataframe thead th {\n",
       "        text-align: right;\n",
       "    }\n",
       "</style>\n",
       "<table border=\"1\" class=\"dataframe\">\n",
       "  <thead>\n",
       "    <tr style=\"text-align: right;\">\n",
       "      <th></th>\n",
       "      <th>title</th>\n",
       "      <th>summary</th>\n",
       "    </tr>\n",
       "  </thead>\n",
       "  <tbody>\n",
       "    <tr>\n",
       "      <th>0</th>\n",
       "      <td>goldeneye</td>\n",
       "      <td>James Bond must unmask the mysterious head of ...</td>\n",
       "    </tr>\n",
       "    <tr>\n",
       "      <th>1</th>\n",
       "      <td>friday</td>\n",
       "      <td>Craig and Smokey are two guys in Los Angeles h...</td>\n",
       "    </tr>\n",
       "    <tr>\n",
       "      <th>2</th>\n",
       "      <td>from dusk till dawn</td>\n",
       "      <td>Seth Gecko and his younger brother Richard are...</td>\n",
       "    </tr>\n",
       "    <tr>\n",
       "      <th>3</th>\n",
       "      <td>blue in the face</td>\n",
       "      <td>Auggie runs a small tobacco shop in Brooklyn, ...</td>\n",
       "    </tr>\n",
       "    <tr>\n",
       "      <th>4</th>\n",
       "      <td>mighty morphin power rangers: the movie</td>\n",
       "      <td>Power up with six incredible teens who out-man...</td>\n",
       "    </tr>\n",
       "  </tbody>\n",
       "</table>\n",
       "</div>"
      ],
      "text/plain": [
       "                                     title  \\\n",
       "0                                goldeneye   \n",
       "1                                   friday   \n",
       "2                      from dusk till dawn   \n",
       "3                         blue in the face   \n",
       "4  mighty morphin power rangers: the movie   \n",
       "\n",
       "                                             summary  \n",
       "0  James Bond must unmask the mysterious head of ...  \n",
       "1  Craig and Smokey are two guys in Los Angeles h...  \n",
       "2  Seth Gecko and his younger brother Richard are...  \n",
       "3  Auggie runs a small tobacco shop in Brooklyn, ...  \n",
       "4  Power up with six incredible teens who out-man...  "
      ]
     },
     "execution_count": 4,
     "metadata": {},
     "output_type": "execute_result"
    }
   ],
   "source": [
    "final_df.head()"
   ]
  },
  {
   "cell_type": "code",
   "execution_count": 25,
   "metadata": {},
   "outputs": [],
   "source": [
    "df_meta = df_meta.set_index(\"id\")"
   ]
  },
  {
   "cell_type": "code",
   "execution_count": 26,
   "metadata": {},
   "outputs": [
    {
     "data": {
      "text/html": [
       "<div>\n",
       "<style scoped>\n",
       "    .dataframe tbody tr th:only-of-type {\n",
       "        vertical-align: middle;\n",
       "    }\n",
       "\n",
       "    .dataframe tbody tr th {\n",
       "        vertical-align: top;\n",
       "    }\n",
       "\n",
       "    .dataframe thead th {\n",
       "        text-align: right;\n",
       "    }\n",
       "</style>\n",
       "<table border=\"1\" class=\"dataframe\">\n",
       "  <thead>\n",
       "    <tr style=\"text-align: right;\">\n",
       "      <th></th>\n",
       "      <th>title</th>\n",
       "    </tr>\n",
       "    <tr>\n",
       "      <th>id</th>\n",
       "      <th></th>\n",
       "    </tr>\n",
       "  </thead>\n",
       "  <tbody>\n",
       "    <tr>\n",
       "      <th>19404</th>\n",
       "      <td>Dilwale Dulhania Le Jayenge</td>\n",
       "    </tr>\n",
       "    <tr>\n",
       "      <th>283566</th>\n",
       "      <td>Evangelion: 3.0+1.0 Thrice Upon a Time</td>\n",
       "    </tr>\n",
       "    <tr>\n",
       "      <th>278</th>\n",
       "      <td>The Shawshank Redemption</td>\n",
       "    </tr>\n",
       "    <tr>\n",
       "      <th>724089</th>\n",
       "      <td>Gabriel's Inferno Part II</td>\n",
       "    </tr>\n",
       "    <tr>\n",
       "      <th>238</th>\n",
       "      <td>The Godfather</td>\n",
       "    </tr>\n",
       "  </tbody>\n",
       "</table>\n",
       "</div>"
      ],
      "text/plain": [
       "                                         title\n",
       "id                                            \n",
       "19404              Dilwale Dulhania Le Jayenge\n",
       "283566  Evangelion: 3.0+1.0 Thrice Upon a Time\n",
       "278                   The Shawshank Redemption\n",
       "724089               Gabriel's Inferno Part II\n",
       "238                              The Godfather"
      ]
     },
     "execution_count": 26,
     "metadata": {},
     "output_type": "execute_result"
    }
   ],
   "source": [
    "df_meta.head()"
   ]
  },
  {
   "cell_type": "code",
   "execution_count": 29,
   "metadata": {},
   "outputs": [
    {
     "data": {
      "text/plain": [
       "297802"
      ]
     },
     "execution_count": 29,
     "metadata": {},
     "output_type": "execute_result"
    }
   ],
   "source": [
    "df_meta[df_meta[\"title\"] == \"Aquaman\"].index[0]"
   ]
  },
  {
   "cell_type": "code",
   "execution_count": 30,
   "metadata": {},
   "outputs": [],
   "source": [
    "count_matrix = cv.fit_transform(final_df['summary']).toarray()\n"
   ]
  },
  {
   "cell_type": "code",
   "execution_count": 31,
   "metadata": {},
   "outputs": [
    {
     "data": {
      "text/plain": [
       "array([[1.        , 0.        , 0.04902903, ..., 0.04526787, 0.10825318,\n",
       "        0.03686049],\n",
       "       [0.        , 1.        , 0.        , ..., 0.02464071, 0.        ,\n",
       "        0.04012862],\n",
       "       [0.04902903, 0.        , 1.        , ..., 0.01775552, 0.05661385,\n",
       "        0.08674724],\n",
       "       ...,\n",
       "       [0.04526787, 0.02464071, 0.01775552, ..., 1.        , 0.05227084,\n",
       "        0.02669753],\n",
       "       [0.10825318, 0.        , 0.05661385, ..., 0.05227084, 1.        ,\n",
       "        0.04256283],\n",
       "       [0.03686049, 0.04012862, 0.08674724, ..., 0.02669753, 0.04256283,\n",
       "        1.        ]])"
      ]
     },
     "execution_count": 31,
     "metadata": {},
     "output_type": "execute_result"
    }
   ],
   "source": [
    "from sklearn.metrics.pairwise import cosine_similarity\n",
    "cosine_sim = cosine_similarity(count_matrix)\n",
    "\n",
    "cosine_sim"
   ]
  },
  {
   "cell_type": "code",
   "execution_count": 79,
   "metadata": {},
   "outputs": [],
   "source": [
    "import requests\n",
    "def recommend_movie(movie):\n",
    "    try:\n",
    "\n",
    "        index = final_df[final_df['title'] == movie].index[0]\n",
    "        distances = sorted(list(enumerate(cosine_sim[index])),reverse=True,key = lambda x: x[1])\n",
    "        for i in distances[1:16]:\n",
    "            print(final_df.iloc[i[0]].title.capitalize())        \n",
    "                \n",
    "    except IndexError:\n",
    "        \n",
    "        id = df_meta[df_meta[\"title\"] == movie].index[0]\n",
    "        response = requests.get(f\"https://api.themoviedb.org/3/movie/{id}/recommendations?api_key=12a912144f97b3790b3731bdd9912034&language=en-US&page=1\")\n",
    "        for i in range(0,16):\n",
    "            print(response.json()[\"results\"][i][\"title\"])"
   ]
  },
  {
   "cell_type": "code",
   "execution_count": 80,
   "metadata": {},
   "outputs": [
    {
     "name": "stdout",
     "output_type": "stream",
     "text": [
      "Bumblebee\n",
      "Spider-Man: Into the Spider-Verse\n",
      "Venom\n",
      "Fantastic Beasts: The Crimes of Grindelwald\n",
      "Captain Marvel\n",
      "Ant-Man and the Wasp\n",
      "Mortal Engines\n",
      "Shazam!\n",
      "Ralph Breaks the Internet\n",
      "Avengers: Infinity War\n",
      "Deadpool 2\n",
      "Black Panther\n",
      "Bird Box\n",
      "Justice League\n",
      "Robin Hood\n",
      "Alita: Battle Angel\n"
     ]
    }
   ],
   "source": [
    "recommend_movie(\"Aquaman\")"
   ]
  },
  {
   "cell_type": "code",
   "execution_count": 43,
   "metadata": {},
   "outputs": [],
   "source": [
    "import pickle\n",
    "pickle.dump(final_df,open('movies.pkl','wb'))\n",
    "pickle.dump(cosine_sim,open('model.pkl','wb'))"
   ]
  },
  {
   "cell_type": "code",
   "execution_count": null,
   "metadata": {},
   "outputs": [],
   "source": []
  }
 ],
 "metadata": {
  "kernelspec": {
   "display_name": "Python 3 (ipykernel)",
   "language": "python",
   "name": "python3"
  },
  "language_info": {
   "codemirror_mode": {
    "name": "ipython",
    "version": 3
   },
   "file_extension": ".py",
   "mimetype": "text/x-python",
   "name": "python",
   "nbconvert_exporter": "python",
   "pygments_lexer": "ipython3",
   "version": "3.8.11"
  }
 },
 "nbformat": 4,
 "nbformat_minor": 4
}
